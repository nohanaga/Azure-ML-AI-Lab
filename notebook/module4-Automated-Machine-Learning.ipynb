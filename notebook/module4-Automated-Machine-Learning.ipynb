{
 "cells": [
  {
   "cell_type": "markdown",
   "metadata": {},
   "source": [
    "\n",
    "# Module4: 自動機械学習 Automated Machine Learning による自動車価格予測モデリング & モデル解釈 (リモート高速実行)\n",
    "\n",
    "\n",
    "Azure Machine Learning の Automated ML を用いて、中古車の属性データから価格を予測するモデルを構築します。\n",
    "\n",
    "1. 事前準備\n",
    "    - Python SDK のインポート\n",
    "    - Azure ML `Workspace` への接続\n",
    "    - `Experiment` の作成\n",
    "    - `Dataset` の作成と登録\n",
    "\n",
    "\n",
    "2. 自動機械学習 Automated Machine Learning\n",
    "    - 計算環境 `Machine Learning Compute` の準備\n",
    "    - 自動機械学習 Automated ML の事前設定\n",
    "    - モデル学習と結果の確認\n",
    "\n",
    "\n",
    "3. モデル解釈\n",
    "\n",
    "本ノートブックは、[konabuta/Automated-ML-Workshop](https://github.com/konabuta/Automated-ML-Workshop) を引用しています。"
   ]
  },
  {
   "cell_type": "markdown",
   "metadata": {},
   "source": [
    "## 1. 事前準備\n",
    "### Python SDK のインポート\n",
    "Azure Machine Learning の Python SDKをインポートします。"
   ]
  },
  {
   "cell_type": "code",
   "execution_count": null,
   "metadata": {},
   "outputs": [],
   "source": [
    "!pip install xgboost==0.90"
   ]
  },
  {
   "cell_type": "code",
   "execution_count": null,
   "metadata": {},
   "outputs": [],
   "source": [
    "import azureml.core\n",
    "from azureml.core.experiment import Experiment\n",
    "from azureml.core.workspace import Workspace\n",
    "from azureml.core.dataset import Dataset\n",
    "from azureml.train.automl import AutoMLConfig"
   ]
  },
  {
   "cell_type": "markdown",
   "metadata": {},
   "source": [
    "Azure Machine Learning Python SDK のバージョンを確認します。"
   ]
  },
  {
   "cell_type": "code",
   "execution_count": null,
   "metadata": {},
   "outputs": [],
   "source": [
    "print(azureml.core.VERSION)"
   ]
  },
  {
   "cell_type": "code",
   "execution_count": null,
   "metadata": {},
   "outputs": [],
   "source": [
    "# その他必要なライブラリを利用します\n",
    "import logging\n",
    "from matplotlib import pyplot as plt\n",
    "import pandas as pd\n",
    "import os\n",
    "import warnings\n",
    "\n",
    "# 警告メッセージを削除する\n",
    "warnings.showwarning = lambda *args, **kwargs: None"
   ]
  },
  {
   "cell_type": "markdown",
   "metadata": {},
   "source": [
    "### Azure ML workspace との接続\n",
    "Azure Machine Learning との接続を行います。Azure Active Directory の認証が必要です。"
   ]
  },
  {
   "cell_type": "code",
   "execution_count": null,
   "metadata": {},
   "outputs": [],
   "source": [
    "ws = Workspace.from_config()\n",
    "print(ws.name, ws.location, ws.resource_group, ws.location, sep = '\\t')"
   ]
  },
  {
   "cell_type": "markdown",
   "metadata": {},
   "source": [
    "### 実験名の設定"
   ]
  },
  {
   "cell_type": "markdown",
   "metadata": {},
   "source": [
    "Azure Machine Learing では 実験を管理する仕組みがあります。自動機械学習は自動的にその実験管理の仕組みでメトリックやログが残ります。"
   ]
  },
  {
   "cell_type": "code",
   "execution_count": null,
   "metadata": {},
   "outputs": [],
   "source": [
    "experiment_name = 'automl-reg-automobile-remote-explain'\n",
    "experiment=Experiment(ws, experiment_name)"
   ]
  },
  {
   "cell_type": "markdown",
   "metadata": {},
   "source": [
    "### 学習データの準備"
   ]
  },
  {
   "cell_type": "markdown",
   "metadata": {},
   "source": [
    "Azure Machine Learning service の計算環境 (Machine Learning Compute) で学習を回すために、Azure Machine Learning service の Dataset のフォーマットでデータを定義します。"
   ]
  },
  {
   "cell_type": "code",
   "execution_count": null,
   "metadata": {},
   "outputs": [],
   "source": [
    "\n",
    "# get the datastore to upload prepared data\n",
    "datastore = ws.get_default_datastore()\n",
    "\n",
    "# upload the local file from src_dir to the target_path in datastore\n",
    "datastore.upload(src_dir='data', target_path='data')\n",
    "\n",
    "# create a dataset referencing the cloud location\n",
    "dataset = Dataset.Tabular.from_delimited_files(path = [(datastore, ('data/boston_all.csv'))])\n",
    "\n",
    "dataset.take(5).to_pandas_dataframe()"
   ]
  },
  {
   "cell_type": "code",
   "execution_count": null,
   "metadata": {},
   "outputs": [],
   "source": [
    "#予測変数の指定\n",
    "label = 'medv'"
   ]
  },
  {
   "cell_type": "markdown",
   "metadata": {},
   "source": [
    "### 学習データとテストデータに分割"
   ]
  },
  {
   "cell_type": "code",
   "execution_count": null,
   "metadata": {},
   "outputs": [],
   "source": [
    "train_dataset, test_dataset = dataset.random_split(0.8, seed=1234)"
   ]
  },
  {
   "cell_type": "markdown",
   "metadata": {},
   "source": [
    "### Dataset として登録\n",
    "Azure Machine Learning の データセット管理機能 Dataset に登録します。"
   ]
  },
  {
   "cell_type": "code",
   "execution_count": null,
   "metadata": {},
   "outputs": [],
   "source": [
    "train_dataset = train_dataset.register(workspace = ws, name = 'automobile-train', description = 'automobile train workshop', create_new_version=True)\n",
    "test_dataset = test_dataset.register(workspace = ws, name = 'automobile-test', description = 'automobile train workshop', create_new_version=True)"
   ]
  },
  {
   "cell_type": "markdown",
   "metadata": {},
   "source": [
    "### 計算環境 (Machine Learning Compute) の設定"
   ]
  },
  {
   "cell_type": "markdown",
   "metadata": {},
   "source": [
    "Azure Machine Learning では機械学習のための計算環境 Machine Learning Compute が利用できます。"
   ]
  },
  {
   "cell_type": "code",
   "execution_count": null,
   "metadata": {},
   "outputs": [],
   "source": [
    "\n",
    "from azureml.core.compute import ComputeTarget, AmlCompute\n",
    "from azureml.core.compute_target import ComputeTargetException\n",
    "\n",
    "# Choose a name for your CPU cluster\n",
    "cpu_cluster_name = \"cpu-cluster\"\n",
    "\n",
    "# Verify that cluster does not exist already\n",
    "try:\n",
    "    cpu_cluster = ComputeTarget(workspace=ws, name=cpu_cluster_name)\n",
    "    print('Found existing cluster, use it.')\n",
    "except ComputeTargetException:\n",
    "    compute_config = AmlCompute.provisioning_configuration(vm_size='STANDARD_F16S_V2',\n",
    "                                                           max_nodes=4)\n",
    "    cpu_cluster = ComputeTarget.create(ws, cpu_cluster_name, compute_config)\n",
    "\n",
    "cpu_cluster.wait_for_completion(show_output=True)\n"
   ]
  },
  {
   "cell_type": "code",
   "execution_count": null,
   "metadata": {},
   "outputs": [],
   "source": [
    "# 予め Azure ML studio にて cpucluster という名称の Machine Learning Compute を 作成しておく\n",
    "#from azureml.core.compute import ComputeTarget\n",
    "#compute_target = ComputeTarget(ws, \"cpucluster\")"
   ]
  },
  {
   "cell_type": "markdown",
   "metadata": {},
   "source": [
    "## 2. 自動機械学習 Automated Machine Learning\n",
    "自動機械学習の事前設定を行います。[AutoMLConfig](https://docs.microsoft.com/ja-JP/python/api/azureml-train-automl-client/azureml.train.automl.automlconfig.automlconfig?view=azure-ml-py) を用いて定義します。"
   ]
  },
  {
   "cell_type": "code",
   "execution_count": null,
   "metadata": {},
   "outputs": [],
   "source": [
    "automl_settings = {\n",
    "    \"iteration_timeout_minutes\": 5, # 各試行の最大実験時間\n",
    "    \"iterations\": 10,  # 試行する機械学習パイプラインの数\n",
    "    #\"max_concurrent_iterations\": 4,\n",
    "    \"max_cores_per_iteration\": -1,\n",
    "    \"n_cross_validations\": 3,\n",
    "    \"primary_metric\": 'r2_score', # 精度指標\n",
    "    \"preprocess\": True,\n",
    "    \"enable_voting_ensemble\": False,\n",
    "    \"enable_stack_ensemble\": False\n",
    "}\n",
    "\n",
    "automl_config = AutoMLConfig(task = 'regression',\n",
    "                             training_data = train_dataset,\n",
    "                             label_column_name = label,                             \n",
    "                             compute_target=cpu_cluster,\n",
    "                             model_explainability = True,\n",
    "                             **automl_settings\n",
    "                            )"
   ]
  },
  {
   "cell_type": "markdown",
   "metadata": {},
   "source": [
    "### 実行と結果確認"
   ]
  },
  {
   "cell_type": "markdown",
   "metadata": {},
   "source": [
    "Machine Learning Compute で一番最初に実行する際は Docker Image を作成するため、20 〜 30分ほど時間がかかります。Dokcer Image を Build している様子は Azure Machine Learning studio から確認できます。"
   ]
  },
  {
   "cell_type": "code",
   "execution_count": null,
   "metadata": {},
   "outputs": [],
   "source": [
    "remote_run = experiment.submit(automl_config, show_output = True)"
   ]
  },
  {
   "cell_type": "markdown",
   "metadata": {},
   "source": [
    "## 結果の確認"
   ]
  },
  {
   "cell_type": "code",
   "execution_count": null,
   "metadata": {},
   "outputs": [],
   "source": [
    "from azureml.widgets import RunDetails\n",
    "RunDetails(remote_run).show()"
   ]
  },
  {
   "cell_type": "code",
   "execution_count": null,
   "metadata": {
    "scrolled": true
   },
   "outputs": [],
   "source": [
    "remote_run.get_guardrails()"
   ]
  },
  {
   "cell_type": "code",
   "execution_count": null,
   "metadata": {},
   "outputs": [],
   "source": [
    "from azureml.train.automl.run import AutoMLRun\n",
    "\n",
    "automl_run = AutoMLRun(experiment, run_id = automl_run.run_id)\n",
    "best_run, fitted_model = automl_run.get_output()"
   ]
  },
  {
   "cell_type": "markdown",
   "metadata": {},
   "source": [
    "### 機械学習モデルの理解"
   ]
  },
  {
   "cell_type": "code",
   "execution_count": null,
   "metadata": {},
   "outputs": [],
   "source": [
    "pd.DataFrame(fitted_model.named_steps['datatransformer'].get_engineered_feature_names())"
   ]
  },
  {
   "cell_type": "code",
   "execution_count": null,
   "metadata": {},
   "outputs": [],
   "source": [
    "pd.DataFrame.from_records(fitted_model.named_steps['datatransformer'].get_featurization_summary())"
   ]
  },
  {
   "cell_type": "markdown",
   "metadata": {},
   "source": [
    "## 3. モデル解釈\n",
    "Azure Machine Learning には Automated ML のモデルを解釈する仕組みがあります。詳しくは [モデルを解釈する方法](https://docs.microsoft.com/ja-jp/azure/machine-learning/service/how-to-machine-learning-interpretability#how-to-interpret-your-model)をご参照ください。"
   ]
  },
  {
   "cell_type": "code",
   "execution_count": null,
   "metadata": {},
   "outputs": [],
   "source": [
    "# Pandas Dataframe に変換\n",
    "train_df = train_dataset.to_pandas_dataframe()\n",
    "test_df = test_dataset.to_pandas_dataframe()"
   ]
  },
  {
   "cell_type": "code",
   "execution_count": null,
   "metadata": {
    "scrolled": true
   },
   "outputs": [],
   "source": [
    "from azureml.train.automl.runtime.automl_explain_utilities import AutoMLExplainerSetupClass, automl_setup_model_explanations\n",
    "automl_explainer_setup_obj = automl_setup_model_explanations(fitted_model, \n",
    "                                                             X=train_df.drop([label], axis=1), \n",
    "                                                             X_test=test_df.drop([label], axis=1), \n",
    "                                                             y=train_df[label].values, \n",
    "                                                             task='regression')"
   ]
  },
  {
   "cell_type": "markdown",
   "metadata": {},
   "source": [
    "`MimicWrapper` は **Global Surrogaete Model** によるグローバルなモデル解釈を実現します。ここでは LightGBM を用いています。"
   ]
  },
  {
   "cell_type": "code",
   "execution_count": null,
   "metadata": {},
   "outputs": [],
   "source": [
    "from azureml.explain.model.mimic.models.lightgbm_model import LGBMExplainableModel\n",
    "from azureml.explain.model.mimic_wrapper import MimicWrapper\n",
    "explainer = MimicWrapper(ws, automl_explainer_setup_obj.automl_estimator, LGBMExplainableModel, \n",
    "                         init_dataset=automl_explainer_setup_obj.X_transform, run=best_run,\n",
    "                         features=automl_explainer_setup_obj.engineered_feature_names, \n",
    "                         feature_maps=[automl_explainer_setup_obj.feature_map],\n",
    "                         classes=automl_explainer_setup_obj.classes)"
   ]
  },
  {
   "cell_type": "markdown",
   "metadata": {},
   "source": [
    "## Engineered Explanation\n",
    "特徴量エンジニアリングで生成された変数を用いたモデル解釈を行います。"
   ]
  },
  {
   "cell_type": "code",
   "execution_count": null,
   "metadata": {},
   "outputs": [],
   "source": [
    "# Compute the engineered explanations\n",
    "engineered_explanations = explainer.explain(['local', 'global'],get_raw=False,\n",
    "                                            eval_dataset=automl_explainer_setup_obj.X_test_transform)"
   ]
  },
  {
   "cell_type": "code",
   "execution_count": null,
   "metadata": {},
   "outputs": [],
   "source": [
    "# ダッシュボードの表示\n",
    "from interpret_community.widget import ExplanationDashboard\n",
    "ExplanationDashboard(engineered_explanations, \n",
    "                     automl_explainer_setup_obj.automl_estimator, \n",
    "                     datasetX=automl_explainer_setup_obj.X_test_transform)"
   ]
  },
  {
   "cell_type": "markdown",
   "metadata": {},
   "source": [
    "## Raw Explanation\n",
    "特徴量エンジニアリング前の変数を用いたモデル解釈を行います。"
   ]
  },
  {
   "cell_type": "code",
   "execution_count": null,
   "metadata": {},
   "outputs": [],
   "source": [
    "raw_explanations = explainer.explain(['local', 'global'], get_raw=True, \n",
    "                                     raw_feature_names=automl_explainer_setup_obj.raw_feature_names,\n",
    "                                     eval_dataset=automl_explainer_setup_obj.X_test_transform)"
   ]
  },
  {
   "cell_type": "code",
   "execution_count": null,
   "metadata": {
    "scrolled": false
   },
   "outputs": [],
   "source": [
    "# ダッシュボードの表示\n",
    "from interpret_community.widget import ExplanationDashboard\n",
    "ExplanationDashboard(raw_explanations, \n",
    "                     automl_explainer_setup_obj.automl_pipeline, \n",
    "                     datasetX=automl_explainer_setup_obj.X_test_raw)"
   ]
  }
 ],
 "metadata": {
  "kernelspec": {
   "display_name": "Python 3",
   "language": "python",
   "name": "python3"
  },
  "language_info": {
   "codemirror_mode": {
    "name": "ipython",
    "version": 3
   },
   "file_extension": ".py",
   "mimetype": "text/x-python",
   "name": "python",
   "nbconvert_exporter": "python",
   "pygments_lexer": "ipython3",
   "version": "3.6.10"
  }
 },
 "nbformat": 4,
 "nbformat_minor": 4
}
