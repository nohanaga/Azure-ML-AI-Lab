{
 "cells": [
  {
   "cell_type": "markdown",
   "metadata": {},
   "source": [
    "# Module3: Azure Machine Learning の基本操作トレーニング\n",
    "\n",
    "Module2 で作成したモデルをワークスペースに登録し、Azure Container Instance（ACI）で Web サービスとしてデプロイします。\n",
    "\n",
    "このノートブックでは、次のことを行います。\n",
    "\n",
    "- Azure Machine Learning Workspace を作成します。\n",
    "- Azure Machine Learning Workspace にモデルを登録する方法を学びます。\n",
    "- モデルを AzureContainer インスタンスの Web サービスとしてデプロイします。\n",
    "\n",
    "\n",
    "## 前提条件\n",
    "Azure Machine Learning Notebook VM を使用している場合は、これで準備は完了です。それ以外の場合は、構成ノートブックを確認して Azure Machine Learning Python SDK をインストールし、ワークスペースを作成してください。"
   ]
  },
  {
   "cell_type": "code",
   "execution_count": null,
   "metadata": {},
   "outputs": [],
   "source": [
    "import os\n",
    "import json\n",
    "import sklearn\n",
    "import requests\n",
    "\n",
    "import azureml.core\n",
    "from azureml.core import Workspace\n",
    "from azureml.core.model import Model,InferenceConfig\n",
    "from azureml.core.environment import Environment\n",
    "from azureml.core import Webservice\n",
    "from azureml.core.webservice import AciWebservice\n",
    "from azureml.exceptions import WebserviceException\n",
    "import warnings\n",
    "#Warning を抑止\n",
    "warnings.simplefilter('ignore')\n",
    "# azureml SDKのバージョンを確認する\n",
    "print('azureml.core.VERSION: ', azureml.core.VERSION)"
   ]
  },
  {
   "cell_type": "markdown",
   "metadata": {},
   "source": [
    "# 1. Azure Machine Learning ワークスペース\n",
    "\n",
    "ワークスペースは、Azure Machine Learning の最上位のリソースで、Azure Machine Learning を使用するときに作成するすべての成果物を操作するための一元的な場所を提供します。 ワークスペースには、スクリプトのログ、メトリック、出力、スナップショットなど、すべてのトレーニング実行の履歴が保持されます。 この情報を使用して、最適なモデルを生成するトレーニング実行を判断します。\n",
    "\n",
    "![image.png](https://docs.microsoft.com/ja-jp/azure/machine-learning/media/concept-workspace/azure-machine-learning-taxonomy.png)\n",
    "\n",
    "この図は、ワークスペースの次のコンポーネントを示しています。\n",
    "- ワークスペースには、Azure Machine Learning の実行に必要な Python 環境で構成されたクラウド リソースである Azure Machine Learning コンピューティング インスタンスを含めることができます。\n",
    "- ユーザー ロールを使用すると、お使いのワークスペースを他のユーザー、チーム、またはプロジェクトと共有できます。\n",
    "- コンピューティング ターゲットは、ご自身の実験の実行に使用されます。\n",
    "- ワークスペースを作成すると、関連するリソースも自動的に作成されます。\n",
    "- 実験は、ご自身のモデルの構築に使用するトレーニング実行です。\n",
    "- パイプラインは、お使いのモデルをトレーニングおよび再トレーニングするための再利用可能なワークフローです。\n",
    "- データセットは、モデルのトレーニングとパイプラインの作成に使用するデータの管理に役立ちます。\n",
    "- デプロイするモデルを作成したら、登録済みモデルを作成します。\n",
    "- 登録したモデルとスコアリング スクリプトを使用して、デプロイ エンドポイントを作成します。"
   ]
  },
  {
   "cell_type": "markdown",
   "metadata": {},
   "source": [
    "## ワークスペースのセットアップ\n",
    "まず、Azureサブスクリプションに関する次の情報を入力する必要があります。\n",
    "\n",
    "**独自のAzureサブスクリプションを使用している場合は、使用するsubscription_id、resource_group、workspace_name、workspace_regionの名前を指定してください。** ワークスペースのタイプは [Machine Learning Workspace](https://docs.microsoft.com/azure/machine-learning/service/setup-create-workspace) である必要があることに注意してください。\n",
    "\n",
    "**環境が提供されている場合は、以下の値のXXXXXを一意の識別子に置き換えてください。**\n",
    "\n",
    "次のセルで、コメントの指示に従って、 `subscription_id`、` resource_group`、 `workspace_name`、および` workspace_region`の値を必ず設定してください (*これらの値は、Azureポータルから取得できます*).\n",
    "\n",
    "これらの値を取得するには、次の操作を行います:\n",
    "\n",
    "1. Azureポータルに移動し、提供された資格情報でログインします。\n",
    "\n",
    "2. 左側のメニューの[お気に入り]で、[リソースグループ]を選択します。\n",
    "\n",
    "3. リストで、「XXXXX」のような名前のリソースグループを選択します。\n",
    "\n",
    "4. 「概要」タブから、必要な値を取得します。\n",
    "\n",
    "上のコマンドバーの `>|Run` ボタンを選択して、次のセルを実行します。"
   ]
  },
  {
   "cell_type": "code",
   "execution_count": null,
   "metadata": {},
   "outputs": [],
   "source": [
    "#既存のAzureサブスクリプションのサブスクリプションIDに置き換える\n",
    "subscription_id = \"\"\n",
    "\n",
    "#Azure ML関連のサービスを含むリソースグループの名前を指定します\n",
    "resource_group = \"amlailab\"\n",
    "\n",
    "#作成されるAzure Machine Learningワークスペースの一意の名前とリージョンを指定します\n",
    "workspace_name = \"amlailab-csml\"\n",
    "workspace_region = \"eastus\" # japaneast, eastus2, westus, westcentralus, southeastasia, australiaeast, westeurope"
   ]
  },
  {
   "cell_type": "markdown",
   "metadata": {},
   "source": [
    "## ワークスペースを作成して接続する\n",
    "\n",
    "Azure Machine Learning Python SDK は、Azure Machine Learning サービスの実験、モデル管理、モデルデプロイメント機能を活用するために必要です。次のセルを実行して、新しい Azure Machine Learning **Workspace** を作成し、構成をディスクに保存します。 `config.json` という名前の設定ファイルは、` .azureml` という名前のフォルダーに保存されます。\n",
    "\n",
    "**重要**: セルの下に出力されるテキストでログインするように求められます。 表示されたURLに移動し、提供されているコードを入力してください。コードを入力したら、このノートブックに戻り、 `Workspace configuration succeeded` と出力されるのを待ちます。"
   ]
  },
  {
   "cell_type": "markdown",
   "metadata": {},
   "source": [
    "**任意**: 複数のテナントを持っている場合、以下のセルをアクティブにしてください。クラスをインポートし、ターゲットとするテナントを明示的に定義する必要があります。 \n",
    "InteractiveLoginAuthentication のコンストラクターを呼び出すと、指定したテナントIDに基づいてログインするよう求められます。"
   ]
  },
  {
   "cell_type": "code",
   "execution_count": null,
   "metadata": {},
   "outputs": [],
   "source": [
    "#任意: 複数のテナントを持っている場合\n",
    "#from azureml.core.authentication import InteractiveLoginAuthentication\n",
    "#auth = InteractiveLoginAuthentication(tenant_id = '<your-tenant-id>')"
   ]
  },
  {
   "cell_type": "markdown",
   "metadata": {},
   "source": [
    "上記セルをアクティブにした場合、下記の `Workspace.create` メソッドで `auth = auth` パラメータを有効化します。"
   ]
  },
  {
   "cell_type": "code",
   "execution_count": null,
   "metadata": {},
   "outputs": [],
   "source": [
    "# 既存のワークスペースが存在する場合は既存の Workspace オブジェクトを返します。\n",
    "ws = Workspace.create(\n",
    "    name = workspace_name,\n",
    "    subscription_id = subscription_id,\n",
    "    resource_group = resource_group, \n",
    "    location = workspace_region, \n",
    "    exist_ok = True\n",
    "#   ,auth = auth\n",
    "    )\n",
    "\n",
    "print(ws)"
   ]
  },
  {
   "cell_type": "markdown",
   "metadata": {},
   "source": [
    "複数の環境で同じワークスペースを使用するには、JSON 構成ファイルを作成します。 構成ファイルを使用すると、サブスクリプション、リソース、およびワークスペース名が保存されるため、簡単に読み込むことができます。 構成を保存するには、write_config メソッドを使用します。"
   ]
  },
  {
   "cell_type": "code",
   "execution_count": null,
   "metadata": {},
   "outputs": [],
   "source": [
    "ws.write_config()\n",
    "print('Workspace configuration succeeded')"
   ]
  },
  {
   "cell_type": "markdown",
   "metadata": {},
   "source": [
    "Workspace.from_config() メソッドを使用すると、複数の Python ノートブックまたはプロジェクト間で同じワークスペースを再利用することが簡単にできます。 ユーザーは、この機能を使用してワークスペース ARM プロパティを保存し、from_config を使用して、ワークスペースの ARM プロパティを再入力することなく、さまざまな Python ノートブックまたはプロジェクトで同じワークスペースを読み込むことができます。"
   ]
  },
  {
   "cell_type": "code",
   "execution_count": null,
   "metadata": {},
   "outputs": [],
   "source": [
    "ws = Workspace.from_config()\n",
    "print(ws.get_details())"
   ]
  },
  {
   "cell_type": "markdown",
   "metadata": {},
   "source": [
    "# 2. Azure Machine Learning にモデルを登録する\n",
    "\n",
    "以下では、モデルをワークスペースに登録します（これにより、コピーがクラウドに保存されます）。\n",
    "モデルにタグと説明を追加できます。現在のディレクトリにある BostonPrediction.pkl ファイルを、ワークスペースで BostonPrediction_model という名前のモデルとして使用しています。"
   ]
  },
  {
   "cell_type": "code",
   "execution_count": null,
   "metadata": {},
   "outputs": [],
   "source": [
    "model = Model.register(model_path=\"BostonPrediction.pkl\",\n",
    "                       model_name=\"BostonPrediction_model\",\n",
    "                       tags={'area': \"rm\", 'type': \"regression\"},\n",
    "                       description=\"Linear regression model to predict rm\",\n",
    "                       workspace=ws)\n",
    "\n",
    "print(model.name, model.description, model.version)"
   ]
  },
  {
   "cell_type": "markdown",
   "metadata": {},
   "source": [
    "モデルが正常に登録されたら、Azure Machine Learning Studio の**モデル**メニューから参照・管理することができます。"
   ]
  },
  {
   "cell_type": "markdown",
   "metadata": {},
   "source": [
    "## 既存モデルをロードする\n",
    "\n",
    "Azure Machine Learning にモデルを登録したら、以降は以下のコードを使ってモデル名を指定してロードすることができます。"
   ]
  },
  {
   "cell_type": "code",
   "execution_count": null,
   "metadata": {},
   "outputs": [],
   "source": [
    "model = Model(ws, name='BostonPrediction_model')\n",
    "\n",
    "print(model.name, model.description, model.version)"
   ]
  },
  {
   "cell_type": "markdown",
   "metadata": {},
   "source": [
    "# 3. Azure Container Instance（ACI）にモデルをデプロイする"
   ]
  },
  {
   "cell_type": "markdown",
   "metadata": {},
   "source": [
    "## スコアリングWebサービスを作成する\n",
    "\n",
    "Azure Machine Learning サービスでスコアリング用のモデルをデプロイする場合、モデルをロードしてスコアリングに使用する単純な Web サービスのコードを定義する必要があります。慣例により、このサービスには、モデルをロードする init と、ロードされたモデルを使用してデータをスコアリングする run の2つのメソッドがあります。\n",
    "\n",
    "このスコアリングサービスコード(score.py)は、後で特別に準備された Docker コンテナー内にデプロイされます。"
   ]
  },
  {
   "cell_type": "code",
   "execution_count": null,
   "metadata": {},
   "outputs": [],
   "source": [
    "#スコアリングサービスコード(score.py)の保存先\n",
    "source_directory = \"source_directory\"\n",
    "os.makedirs(source_directory, exist_ok=True)"
   ]
  },
  {
   "cell_type": "code",
   "execution_count": null,
   "metadata": {},
   "outputs": [],
   "source": [
    "%%writefile source_directory/score.py\n",
    "# ---------------------------------------------------------\n",
    "# Copyright (c) Microsoft Corporation. All rights reserved.\n",
    "# ---------------------------------------------------------\n",
    "import json\n",
    "import os\n",
    "import pickle\n",
    "import numpy as np\n",
    "import pandas as pd\n",
    "from sklearn.externals import joblib\n",
    "from azureml.core import Model\n",
    "\n",
    "from inference_schema.schema_decorators import input_schema, output_schema\n",
    "from inference_schema.parameter_types.numpy_parameter_type import NumpyParameterType\n",
    "from inference_schema.parameter_types.pandas_parameter_type import PandasParameterType\n",
    "\n",
    "input_sample = pd.DataFrame({\"crim\": pd.Series([\"0.02985\"], dtype=\"float64\"), \"zn\": pd.Series([\"0.0\"], dtype=\"float64\"), \"indus\": pd.Series([\"2.18\"], dtype=\"float64\"), \"chas\": pd.Series([\"0.0\"], dtype=\"float64\"), \"nox\": pd.Series([\"0.458\"], dtype=\"float64\"), \"rm\": pd.Series([\"6.43\"], dtype=\"float64\"), \"age\": pd.Series([\"58.7\"], dtype=\"float64\"), \"dis\": pd.Series([\"6.0622\"], dtype=\"float64\"), \"rad\": pd.Series([\"3.0\"], dtype=\"float64\"), \"tax\": pd.Series([\"222.0\"], dtype=\"float64\"), \"ptratio\": pd.Series([\"18.7\"], dtype=\"float64\"), \"black\": pd.Series([\"394.12\"], dtype=\"float64\"), \"lstat\": pd.Series([\"5.21\"], dtype=\"float64\")})\n",
    "output_sample = np.array([0])\n",
    "\n",
    "def init():\n",
    "    global model\n",
    "    # This name is model.id of model that we want to deploy deserialize the model file back\n",
    "    # into a sklearn model\n",
    "    model_path = Model.get_model_path('BostonPrediction_model')\n",
    "    try:\n",
    "        model = joblib.load(model_path)\n",
    "        print(\"model:\", model, type(model))\n",
    "    except Exception as e:\n",
    "        error = str(e)\n",
    "        return error\n",
    "\n",
    "@input_schema('data', PandasParameterType(input_sample))\n",
    "@output_schema(NumpyParameterType(output_sample))\n",
    "def run(data):\n",
    "    try:\n",
    "        #data:   <class 'pandas.core.frame.DataFrame'>\n",
    "        #result: <class 'numpy.ndarray'>\n",
    "        print(\"data\", data, type(data))\n",
    "        result = model.predict(data)\n",
    "        return json.dumps({\"result\": result.tolist()})\n",
    "    except Exception as e:\n",
    "        result = str(e)\n",
    "        return json.dumps({\"error\": result})"
   ]
  },
  {
   "cell_type": "markdown",
   "metadata": {},
   "source": [
    "## 環境(Environment)\n",
    "\n",
    "Azure ML Environment は、機械学習トレーニングが行われる環境をカプセル化したものです。これらは、Python パッケージ、環境変数、Docker 設定、およびその他の属性を宣言型で定義します。環境はバージョン管理されています。環境を更新し、古いバージョンを取得して、作業を再検討および確認できます。\n",
    "\n",
    "環境により、次のことが可能になります:\n",
    "\n",
    "- Python パッケージやそのバージョンなど、トレーニングプロセスの依存関係をカプセル化します\n",
    "- VM または MLCompute クラスターでのリモート実行でローカルコンピューター上の Python 環境を再現します\n",
    "- 実稼働環境で実験環境を再現します\n",
    "- 既存のモデルがトレーニングされた環境を再検討して監査します\n",
    "\n",
    "環境、計算ターゲット、トレーニングスクリプトが一緒になって、実行構成を形成します。"
   ]
  },
  {
   "cell_type": "code",
   "execution_count": null,
   "metadata": {},
   "outputs": [],
   "source": [
    "myenv = Environment('myenv')\n",
    "myenv.python.conda_dependencies.add_pip_package(\"inference-schema[numpy-support]\")\n",
    "myenv.python.conda_dependencies.add_pip_package(\"joblib\")\n",
    "myenv.python.conda_dependencies.add_pip_package(\"scikit-learn=={}\".format(sklearn.__version__))\n",
    "\n",
    "# explicitly set base_image to None when setting base_dockerfile\n",
    "myenv.docker.base_image = None\n",
    "myenv.docker.base_dockerfile = \"FROM mcr.microsoft.com/azureml/base:intelmpi2018.3-ubuntu16.04\\nRUN echo \\\"this is test\\\"\"\n",
    "myenv.inferencing_stack_version = \"latest\"\n"
   ]
  },
  {
   "cell_type": "markdown",
   "metadata": {},
   "source": [
    "## デプロイ\n",
    "\n",
    "モデルの実行方法をより制御したい場合、別のフレームワークを使用している場合、または特別なランタイム要件がある場合は、独自の環境とスコアリング方法を指定することができます。カスタム環境は、デプロイしたいモデルに使用することができます。\n",
    "\n",
    "前のコードでは、Environment オブジェクトを作成し、モデルに必要な CondaDependencies を提供することで、モデルの実行環境を指定しました。\n",
    "\n",
    "次のセルでは、Azure Machine Learning SDK を使用して、モデルとスコアリングスクリプトをコンテナにパッケージ化し、そのコンテナを Azure コンテナインスタンスにデプロイします。\n",
    "\n",
    "以下のセルを実行します。"
   ]
  },
  {
   "cell_type": "code",
   "execution_count": null,
   "metadata": {},
   "outputs": [],
   "source": [
    "inference_config = InferenceConfig(source_directory=source_directory,\n",
    "                                   entry_script=\"score.py\",\n",
    "                                   environment=myenv)\n",
    "\n",
    "aci_config = AciWebservice.deploy_configuration(\n",
    "    cpu_cores = 1, \n",
    "    memory_gb = 1, \n",
    "    tags = {'name':'Prediction'}, \n",
    "    description = 'Linear regression model to predict rm')"
   ]
  },
  {
   "cell_type": "markdown",
   "metadata": {},
   "source": [
    "これで、Azure コンテナインスタンスへのデプロイを開始する準備が整いました。\n",
    "\n",
    "次のセルを実行してください: _Running_ タグで進行状況のドットが追加されている間、完了まで `5～15分` ほどかかるかもしれません。\n",
    "\n",
    "Web サービスの準備ができたら、以下のような出力が表示されます。\n",
    "\n",
    "```\n",
    "Succeeded\n",
    "ACI service creation operation finished, operation \"Succeeded\"\n",
    "```"
   ]
  },
  {
   "cell_type": "code",
   "execution_count": null,
   "metadata": {
    "scrolled": true
   },
   "outputs": [],
   "source": [
    "# Azure Machine Learning のエンドポイントに登録される名前\n",
    "service_name = \"bostonprediction\"\n",
    "\n",
    "# Remove any existing service under the same name.\n",
    "try:\n",
    "    Webservice(ws, service_name).delete()\n",
    "except WebserviceException:\n",
    "    pass\n",
    "\n",
    "\n",
    "webservice = Model.deploy(workspace=ws,\n",
    "                       name=service_name,\n",
    "                       models=[model],\n",
    "                       inference_config=inference_config,\n",
    "                       deployment_config=aci_config,\n",
    "                       overwrite=True)\n",
    "\n",
    "webservice.wait_for_deployment(show_output=True, timeout_sec=1800)\n",
    "\n",
    "# デプロイしたWebサービスを削除する\n",
    "#Webservice(ws, \"bostonprediction\").delete()"
   ]
  },
  {
   "cell_type": "markdown",
   "metadata": {},
   "source": [
    "デプロイが完了したら、Azure Machine Learning Studio のアセット->エンドポイント->リアルタイムエンドポイントにサービスが登録されていることが確認できます。"
   ]
  },
  {
   "cell_type": "markdown",
   "metadata": {},
   "source": [
    "## デプロイされたサービスをテストする\n",
    "\n",
    "これで、デプロイされた Web サービスを使用してスコアリングをテストする準備ができました。 次のセルは Web サービスを呼び出します。\n",
    "\n",
    "ここでは、Webservice クラスの run メソッドを利用して、推論リクエストを POST します。インプットデータは JSON 文字列に整形して送信する必要があります"
   ]
  },
  {
   "cell_type": "code",
   "execution_count": null,
   "metadata": {
    "scrolled": true
   },
   "outputs": [],
   "source": [
    "#引数の型\n",
    "#pd.DataFrame({\"crim\": pd.Series([\"0.02985\"], dtype=\"float64\"), \"zn\": pd.Series([\"0.0\"], dtype=\"float64\"), \"indus\": pd.Series([\"2.18\"], dtype=\"float64\"), \"chas\": pd.Series([\"0.0\"], dtype=\"float64\"), \"nox\": pd.Series([\"0.458\"], dtype=\"float64\"), \"rm\": pd.Series([\"6.43\"], dtype=\"float64\"), \"age\": pd.Series([\"58.7\"], dtype=\"float64\"), \"dis\": pd.Series([\"6.0622\"], dtype=\"float64\"), \"rad\": pd.Series([\"3.0\"], dtype=\"float64\"), \"tax\": pd.Series([\"222.0\"], dtype=\"float64\"), \"ptratio\": pd.Series([\"18.7\"], dtype=\"float64\"), \"black\": pd.Series([\"394.12\"], dtype=\"float64\"), \"lstat\": pd.Series([\"5.21\"], dtype=\"float64\")})\n",
    "\n",
    "#JSON文字列に整形する\n",
    "input_payload = json.dumps({\n",
    "    'data': [\n",
    "        [0, 0.0, 2.18, 0.0, 0.458, 5.43, 58.7, 6.0622, 3.0, 222.0, 18.7, 394.12, 0]\n",
    "    ]\n",
    "})\n",
    "#リクエストをPOST\n",
    "output = webservice.run(input_payload)\n",
    "print(output)"
   ]
  },
  {
   "cell_type": "markdown",
   "metadata": {},
   "source": [
    "Docker サービスのログを取得する。"
   ]
  },
  {
   "cell_type": "code",
   "execution_count": null,
   "metadata": {
    "scrolled": true
   },
   "outputs": [],
   "source": [
    "print(webservice.get_logs())"
   ]
  },
  {
   "cell_type": "markdown",
   "metadata": {},
   "source": [
    "## スコアリングURIをキャプチャする\n",
    "\n",
    "RESTクライアントからサービスを呼び出すには、スコアリングURIを取得する必要があります。 次のセルを実行してスコアリングURIを取得し、この値をメモします。最後のノートブックで必要になります。"
   ]
  },
  {
   "cell_type": "code",
   "execution_count": null,
   "metadata": {},
   "outputs": [],
   "source": [
    "scoring_uri = webservice.scoring_uri\n",
    "print(scoring_uri)"
   ]
  },
  {
   "cell_type": "markdown",
   "metadata": {},
   "source": [
    "このサービスのデプロイに使用されるデフォルト設定では、認証を必要としないサービスが作成されるため、このサービスを呼び出すために必要な値はスコアリングURIのみです。"
   ]
  },
  {
   "cell_type": "markdown",
   "metadata": {},
   "source": [
    "## スコアリングURIにHTTP呼び出しを行う\n",
    "\n",
    "次は、取得したスコアリングURIに対して、Webservice.run() を使わずに、POST リクエストを送信してみましょう。単に requests ライブラリの post メソッドを使用するだけです。"
   ]
  },
  {
   "cell_type": "code",
   "execution_count": null,
   "metadata": {},
   "outputs": [],
   "source": [
    "#scoring_uri\n",
    "ml_service_scoring_endpoint = scoring_uri\n",
    "\n",
    "input_payload = json.dumps({\n",
    "    'data': [\n",
    "        [ 0,0.0,2.18,0.0,0.458,5.43,58.7,6.0622,3.0,222.0,18.7,394.12, 0]\n",
    "    ]\n",
    "})\n",
    "\n",
    "headers = {\n",
    "    \"Content-Type\" : \"application/json\",\n",
    "    \"Authorization\": \"Bearer \"\n",
    "}\n",
    "\n",
    "response  = requests.post(ml_service_scoring_endpoint, headers=headers, data=input_payload)\n",
    "result = response.json()\n",
    "print(result)"
   ]
  },
  {
   "cell_type": "code",
   "execution_count": null,
   "metadata": {},
   "outputs": [],
   "source": []
  }
 ],
 "metadata": {
  "kernelspec": {
   "display_name": "Python 3",
   "language": "python",
   "name": "python3"
  },
  "language_info": {
   "codemirror_mode": {
    "name": "ipython",
    "version": 3
   },
   "file_extension": ".py",
   "mimetype": "text/x-python",
   "name": "python",
   "nbconvert_exporter": "python",
   "pygments_lexer": "ipython3",
   "version": "3.6.10"
  }
 },
 "nbformat": 4,
 "nbformat_minor": 4
}
